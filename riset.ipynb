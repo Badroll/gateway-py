{
 "cells": [
  {
   "cell_type": "code",
   "execution_count": 4,
   "metadata": {},
   "outputs": [
    {
     "name": "stdout",
     "output_type": "stream",
     "text": [
      "Keys Dictionary: {'umur', 'nama'}\n",
      "Values List: [['akbar', 21], ['budi', 25], ['citra', 30]]\n"
     ]
    }
   ],
   "source": [
    "# Array of JSON items\n",
    "array_of_json = [\n",
    "    {\"nama\": \"akbar\", \"umur\": 21},\n",
    "    {\"nama\": \"budi\", \"umur\": 25},\n",
    "    {\"nama\": \"citra\", \"umur\": 30}\n",
    "]\n",
    "\n",
    "# Menyimpan key dari setiap item JSON\n",
    "keys_list = [list(item.keys()) for item in array_of_json]\n",
    "keys_list = keys_list[0]\n",
    "\n",
    "# Menyimpan value dari setiap item JSON dalam bentuk list\n",
    "values_list = [list(item.values()) for item in array_of_json]\n",
    "\n",
    "# Menampilkan hasil\n",
    "print(\"Keys Dictionary:\", keys_dict)\n",
    "print(\"Values List:\", values_list)\n"
   ]
  }
 ],
 "metadata": {
  "kernelspec": {
   "display_name": "Python 3",
   "language": "python",
   "name": "python3"
  },
  "language_info": {
   "codemirror_mode": {
    "name": "ipython",
    "version": 3
   },
   "file_extension": ".py",
   "mimetype": "text/x-python",
   "name": "python",
   "nbconvert_exporter": "python",
   "pygments_lexer": "ipython3",
   "version": "3.8.0"
  }
 },
 "nbformat": 4,
 "nbformat_minor": 2
}
